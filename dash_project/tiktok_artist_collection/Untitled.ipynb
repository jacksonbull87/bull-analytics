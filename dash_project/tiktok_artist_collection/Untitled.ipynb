{
 "cells": [
  {
   "cell_type": "code",
   "execution_count": 1,
   "metadata": {},
   "outputs": [],
   "source": [
    "from cm_api import get_api_token\n",
    "from data_agg import *\n",
    "from cm_config import  config\n",
    "from helper_funct1 import generate_yesterday_date\n",
    "from data_agg import collect_artist_sppop\n",
    "from data_agg import create_artist_ig_engagement_feat\n",
    "import datetime\n",
    "import pandas as pd\n",
    "from graph_maker import make_barplot\n",
    "\n",
    "#get api token\n",
    "api_token = get_api_token(config['refresh_token'])\n",
    "\n",
    "#get yesterday's date\n",
    "yesterday_date = generate_yesterday_date()\n",
    "\n",
    "#get tiktok chart\n",
    "data = get_tiktok_chart_data(api_token, 'tracks', yesterday_date, 'weekly')\n",
    "\n",
    "\n",
    "\n",
    "\n",
    "\n"
   ]
  },
  {
   "cell_type": "code",
   "execution_count": 2,
   "metadata": {},
   "outputs": [],
   "source": [
    "#parse tiktok data into dataframe\n",
    "dataframe = parse_tiktok_data(data)\n",
    "\n",
    "#get chartmetric id and add to dataframe\n",
    "dataframe = create_artist_id_feat(api_token, dataframe)\n",
    "\n",
    "#remove timestamp from `added_at` feature\n",
    "dataframe['added_at'] = pd.to_datetime(dataframe['added_at']).dt.date\n",
    "\n",
    "#engineer track chart age\n",
    "dataframe['track_age'] = dataframe['time_on_chart'].apply(lambda x: 'a month' if int(x) <= 30 else ('2 months' if 60 >= int(x) > 30 else 'over 2 months'))\n",
    "\n",
    "#filter dataset down to 1-month old tracks\n",
    "young_trax = dataframe.loc[dataframe['track_age'] == 'a month'].reset_index().drop(axis=1, labels='index')\n",
    "\n",
    "#engineer date feature for 7 days before each record's first occurance on the chart\n",
    "young_trax = create_before_tiktok_date_feat(young_trax)\n",
    "\n",
    "#replace artist names with real artist names\n",
    "young_trax = collect_true_artist_names(api_token, young_trax)\n",
    "\n",
    "#collect instagram followers for `Before_Tiktok_Date`\n",
    "young_trax = create_instagram_followers_before_feat(api_token, young_trax)\n",
    "\n",
    "#Collect currect spotify popularity metric for each artist\n",
    "young_trax = collect_artist_sppop(api_token, young_trax)\n",
    "\n",
    "#Career Stage feature\n",
    "young_trax['Popularity-Index'] = young_trax['artist_pop'].apply(lambda x: '>= 90' if x >= 90 else ('>=80' if x >= 80 else '< 80'))\n",
    "\n",
    "#adding date for 7 days after record's first chart appearance\n",
    "young_trax['Week_In_Chart_Date'] = young_trax['Before_Tiktok_Date'] + datetime.timedelta(days=14)\n",
    "\n",
    "young_trax = create_instagram_followers_after_feat(api_token, young_trax)\n",
    "\n",
    "#percent gain in IG followers\n",
    "young_trax['IG_Follower_Gain-%'] = (young_trax['ig_followers_afters'] - young_trax['total_ig_followers'])/young_trax['total_ig_followers']*100\n",
    "\n",
    "#adding instagram engagement before tiktok chart\n",
    "young_trax = create_artist_ig_engagement_feat(api_token, young_trax)\n",
    "\n",
    "#save dataset\n",
    "young_trax.to_csv('/home/bull/Documents/artist-discovery-app/data/tiktok_artists.csv', index_label='index')\n",
    "\n",
    "# make_barplot(young_trax, 'artist', 'total_ig_followers')\n"
   ]
  },
  {
   "cell_type": "code",
   "execution_count": null,
   "metadata": {},
   "outputs": [],
   "source": []
  }
 ],
 "metadata": {
  "kernelspec": {
   "display_name": "Python 3",
   "language": "python",
   "name": "python3"
  },
  "language_info": {
   "codemirror_mode": {
    "name": "ipython",
    "version": 3
   },
   "file_extension": ".py",
   "mimetype": "text/x-python",
   "name": "python",
   "nbconvert_exporter": "python",
   "pygments_lexer": "ipython3",
   "version": "3.8.5"
  }
 },
 "nbformat": 4,
 "nbformat_minor": 4
}
